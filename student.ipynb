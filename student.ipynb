# Exploratory Data Analysis for Movie Studio Project

# Import necessary libraries
import pandas as pd
import numpy as np
import matplotlib.pyplot as plt

# Load the movie datasets
box_office_mojo = pd.read_csv('zippedData/box_office_mojo.csv')
imdb = pd.read_csv('zippedData/imdb.csv')
rotten_tomatoes = pd.read_csv('zippedData/rotten_tomatoes.csv')
the_movie_db = pd.read_csv('zippedData/the_movie_db.csv')
the_numbers = pd.read_csv('zippedData/the_numbers.csv')

# Merge the datasets to create a comprehensive view
merged_data = pd.merge(box_office_mojo, imdb, on='movie_id')
merged_data = pd.merge(merged_data, rotten_tomatoes, on='movie_id')
merged_data = pd.merge(merged_data, the_movie_db, on='movie_id')
merged_data = pd.merge(merged_data, the_numbers, on='movie_id')

# Perform exploratory data analysis
def explore_data(data):
    """
    Function to explore the given dataset.
    
    Parameters:
    data (DataFrame): Input dataset to explore.
    
    Returns:
    None
    """
    print(data.head())
    print(data.describe())
    print(data.info())
    # Add more exploratory analysis as needed

# Call the explore_data function on the merged dataset
explore_data(merged_data)

# Generate insights for the business stakeholder
def generate_insights(data):
    """
    Function to generate insights for the business stakeholder.
    
    Parameters:
    data (DataFrame): Merged dataset containing movie information.
    
    Returns:
    None
    """
    # Analyze the data and provide actionable insights
    # Example: Identify genres with highest box office revenue
    genre_revenue = data.groupby('genre')['box_office_revenue'].sum().sort_values(ascending=False)
    print("Genres with highest box office revenue:")
    print(genre_revenue.head())
    # Add more insights based on the business problem

# Call the generate_insights function on the merged dataset
generate_insights(merged_data)
